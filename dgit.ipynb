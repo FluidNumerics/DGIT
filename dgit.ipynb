{
 "cells": [
  {
   "cell_type": "markdown",
   "metadata": {
    "id": "0N4KbKFtaBHa"
   },
   "source": [
    "# Discontinuous Galerkin in Time"
   ]
  },
  {
   "cell_type": "markdown",
   "metadata": {
    "id": "Q9VdP3TRb-fI"
   },
   "source": [
    "# Install pyself\n",
    "\n",
    "[Pyself](https://fluidnumerics.github.io/pyself/) is a python package from Fluid Numerics for working with output from the Spectral Element Library in Fortran"
   ]
  },
  {
   "cell_type": "code",
   "execution_count": 2,
   "metadata": {
    "colab": {
     "base_uri": "https://localhost:8080/"
    },
    "id": "6g4ttZAFcQwi",
    "outputId": "82fc2886-7a32-4502-8dd2-b951331ec025"
   },
   "outputs": [
    {
     "name": "stdout",
     "output_type": "stream",
     "text": [
      "fatal: destination path '/tmp/pyself' already exists and is not an empty directory.\n",
      "Processing /tmp/pyself\n",
      "  Preparing metadata (setup.py) ... \u001b[?25ldone\n",
      "\u001b[?25hRequirement already satisfied: h5py>=3.7.0 in /home/joe/.local/lib/python3.9/site-packages (from pyself==0.1.0) (3.8.0)\n",
      "Requirement already satisfied: dask in /home/joe/.local/lib/python3.9/site-packages (from pyself==0.1.0) (2023.2.0)\n",
      "Collecting pyvista\n",
      "  Downloading pyvista-0.42.3-py3-none-any.whl (1.6 MB)\n",
      "\u001b[2K     \u001b[38;2;114;156;31m━━━━━━━━━━━━━━━━━━━━━━━━━━━━━━━━━━━━━━━━\u001b[0m \u001b[32m1.6/1.6 MB\u001b[0m \u001b[31m4.8 MB/s\u001b[0m eta \u001b[36m0:00:00\u001b[0m[31m4.8 MB/s\u001b[0m eta \u001b[36m0:00:01\u001b[0m\n",
      "\u001b[?25hRequirement already satisfied: numpy>=1.14.5 in /home/joe/.local/lib/python3.9/site-packages (from h5py>=3.7.0->pyself==0.1.0) (1.23.5)\n",
      "Requirement already satisfied: fsspec>=0.6.0 in /home/joe/.local/lib/python3.9/site-packages (from dask->pyself==0.1.0) (2023.1.0)\n",
      "Requirement already satisfied: click>=7.0 in /home/joe/.local/lib/python3.9/site-packages (from dask->pyself==0.1.0) (8.1.3)\n",
      "Requirement already satisfied: packaging>=20.0 in /home/joe/.local/lib/python3.9/site-packages (from dask->pyself==0.1.0) (23.0)\n",
      "Requirement already satisfied: partd>=0.3.10 in /home/joe/.local/lib/python3.9/site-packages (from dask->pyself==0.1.0) (1.3.0)\n",
      "Requirement already satisfied: toolz>=0.8.2 in /home/joe/.local/lib/python3.9/site-packages (from dask->pyself==0.1.0) (0.12.0)\n",
      "Requirement already satisfied: pyyaml>=5.3.1 in /home/joe/anaconda3/lib/python3.9/site-packages (from dask->pyself==0.1.0) (6.0)\n",
      "Requirement already satisfied: cloudpickle>=1.1.1 in /home/joe/.local/lib/python3.9/site-packages (from dask->pyself==0.1.0) (2.2.1)\n",
      "Requirement already satisfied: pillow in /home/joe/.local/lib/python3.9/site-packages (from pyvista->pyself==0.1.0) (9.4.0)\n",
      "Collecting scooby>=0.5.1\n",
      "  Downloading scooby-0.9.2-py3-none-any.whl (18 kB)\n",
      "Requirement already satisfied: matplotlib>=3.0.1 in /home/joe/.local/lib/python3.9/site-packages (from pyvista->pyself==0.1.0) (3.7.0)\n",
      "Collecting pooch\n",
      "  Downloading pooch-1.8.0-py3-none-any.whl (62 kB)\n",
      "\u001b[2K     \u001b[38;2;114;156;31m━━━━━━━━━━━━━━━━━━━━━━━━━━━━━━━━━━━━━━━━\u001b[0m \u001b[32m62.7/62.7 kB\u001b[0m \u001b[31m27.8 MB/s\u001b[0m eta \u001b[36m0:00:00\u001b[0m\n",
      "\u001b[?25hCollecting vtk\n",
      "  Downloading vtk-9.3.0-cp39-cp39-manylinux_2_17_x86_64.manylinux2014_x86_64.whl (92.0 MB)\n",
      "\u001b[2K     \u001b[38;2;114;156;31m━━━━━━━━━━━━━━━━━━━━━━━━━━━━━━━━━━━━━━━━\u001b[0m \u001b[32m92.0/92.0 MB\u001b[0m \u001b[31m7.4 MB/s\u001b[0m eta \u001b[36m0:00:00\u001b[0mm eta \u001b[36m0:00:01\u001b[0m[36m0:00:01\u001b[0m\n",
      "\u001b[?25hRequirement already satisfied: contourpy>=1.0.1 in /home/joe/.local/lib/python3.9/site-packages (from matplotlib>=3.0.1->pyvista->pyself==0.1.0) (1.0.7)\n",
      "Requirement already satisfied: importlib-resources>=3.2.0 in /home/joe/anaconda3/lib/python3.9/site-packages (from matplotlib>=3.0.1->pyvista->pyself==0.1.0) (5.0.7)\n",
      "Requirement already satisfied: pyparsing>=2.3.1 in /home/joe/.local/lib/python3.9/site-packages (from matplotlib>=3.0.1->pyvista->pyself==0.1.0) (3.0.9)\n",
      "Requirement already satisfied: cycler>=0.10 in /home/joe/.local/lib/python3.9/site-packages (from matplotlib>=3.0.1->pyvista->pyself==0.1.0) (0.11.0)\n",
      "Requirement already satisfied: python-dateutil>=2.7 in /home/joe/.local/lib/python3.9/site-packages (from matplotlib>=3.0.1->pyvista->pyself==0.1.0) (2.8.2)\n",
      "Requirement already satisfied: fonttools>=4.22.0 in /home/joe/.local/lib/python3.9/site-packages (from matplotlib>=3.0.1->pyvista->pyself==0.1.0) (4.38.0)\n",
      "Requirement already satisfied: kiwisolver>=1.0.1 in /home/joe/.local/lib/python3.9/site-packages (from matplotlib>=3.0.1->pyvista->pyself==0.1.0) (1.4.4)\n",
      "Requirement already satisfied: locket in /home/joe/.local/lib/python3.9/site-packages (from partd>=0.3.10->dask->pyself==0.1.0) (1.0.0)\n",
      "Requirement already satisfied: platformdirs>=2.5.0 in /home/joe/anaconda3/lib/python3.9/site-packages (from pooch->pyvista->pyself==0.1.0) (2.5.2)\n",
      "Requirement already satisfied: requests>=2.19.0 in /home/joe/anaconda3/lib/python3.9/site-packages (from pooch->pyvista->pyself==0.1.0) (2.28.1)\n",
      "Requirement already satisfied: six>=1.5 in /home/joe/.local/lib/python3.9/site-packages (from python-dateutil>=2.7->matplotlib>=3.0.1->pyvista->pyself==0.1.0) (1.16.0)\n",
      "Requirement already satisfied: idna<4,>=2.5 in /home/joe/anaconda3/lib/python3.9/site-packages (from requests>=2.19.0->pooch->pyvista->pyself==0.1.0) (3.3)\n",
      "Requirement already satisfied: urllib3<1.27,>=1.21.1 in /home/joe/anaconda3/lib/python3.9/site-packages (from requests>=2.19.0->pooch->pyvista->pyself==0.1.0) (1.26.11)\n",
      "Requirement already satisfied: charset-normalizer<3,>=2 in /home/joe/anaconda3/lib/python3.9/site-packages (from requests>=2.19.0->pooch->pyvista->pyself==0.1.0) (2.0.4)\n",
      "Requirement already satisfied: certifi>=2017.4.17 in /home/joe/anaconda3/lib/python3.9/site-packages (from requests>=2.19.0->pooch->pyvista->pyself==0.1.0) (2022.9.14)\n",
      "Building wheels for collected packages: pyself\n",
      "  Building wheel for pyself (setup.py) ... \u001b[?25ldone\n",
      "\u001b[?25h  Created wheel for pyself: filename=pyself-0.1.0-py3-none-any.whl size=5946 sha256=a3f8698b504ea5d72f0e132c7af9f58b31a4fbe6da036f01f1eea00bbd78e9eb\n",
      "  Stored in directory: /tmp/pip-ephem-wheel-cache-jigv4gpm/wheels/3a/52/24/b4acd0ce823e4d9e21d2d4f94c61cf2055f743c993aeea4484\n",
      "Successfully built pyself\n",
      "Installing collected packages: scooby, pooch, vtk, pyvista, pyself\n",
      "Successfully installed pooch-1.8.0 pyself-0.1.0 pyvista-0.42.3 scooby-0.9.2 vtk-9.3.0\n"
     ]
    }
   ],
   "source": [
    "! git clone https://github.com/fluidnumerics/pyself /tmp/pyself\n",
    "! cd /tmp/pyself\n",
    "! pip install --user /tmp/pyself --upgrade"
   ]
  },
  {
   "cell_type": "markdown",
   "metadata": {
    "id": "AEt_qP-jb3p5"
   },
   "source": [
    "## Example load quadrature and weights\n",
    "In this example below, we use the `lagrange` class included with `pyself` to load one of the HDF5 files from SELF and print the attributes (for your reference), the control points (quadrature points), and DG derivative matrix."
   ]
  },
  {
   "cell_type": "code",
   "execution_count": 3,
   "metadata": {
    "colab": {
     "base_uri": "https://localhost:8080/"
    },
    "id": "8jYMRBy2b8Px",
    "outputId": "ce419678-bc1b-4227-bdc1-a824ed851f03"
   },
   "outputs": [
    {
     "name": "stdout",
     "output_type": "stream",
     "text": [
      "Interpolation matrix not available\n",
      "============================\n",
      "lagrangeFromFile\n",
      "\n",
      "============================\n",
      "Lagrange Object : \n",
      " <self.lagrange.interp object at 0x7f9ce27fa430> \n",
      "\n",
      "Lagrange Object Attributes: \n",
      " ['M', 'N', '__class__', '__delattr__', '__dict__', '__dir__', '__doc__', '__eq__', '__format__', '__ge__', '__getattribute__', '__gt__', '__hash__', '__init__', '__init_subclass__', '__le__', '__lt__', '__module__', '__ne__', '__new__', '__reduce__', '__reduce_ex__', '__repr__', '__setattr__', '__sizeof__', '__str__', '__subclasshook__', '__weakref__', 'bMatrix', 'controlNodeType', 'controlPoints', 'dMatrix', 'dgMatrix', 'load', 'qWeights', 'targetNodeType', 'targetPoints', 'weights'] \n",
      "\n",
      "Lagrange computational coordinates : \n",
      " [-0.77459667  0.          0.77459667] \n",
      "\n",
      "Lagrange dgMatrix: \n",
      " [[ 1.93649167  1.03279556 -0.64549722]\n",
      " [-1.61374306 -0.          1.61374306]\n",
      " [ 0.64549722 -1.03279556 -1.93649167]] \n",
      "\n",
      "============================\n"
     ]
    }
   ],
   "source": [
    "import self.lagrange as lagrange\n",
    "\n",
    "\n",
    "interp = lagrange.interp()\n",
    "interp.load('./data/gauss/sample1D_002.h5')\n",
    "attr=dir(interp)\n",
    "\n",
    "print(\"============================\")\n",
    "print(\"lagrangeFromFile\\n\")\n",
    "print(\"============================\")\n",
    "print(f\"Lagrange Object : \\n {interp} \\n\")\n",
    "print(f\"Lagrange Object Attributes: \\n {attr} \\n\")\n",
    "print(f\"Lagrange computational coordinates : \\n {interp.controlPoints[:]} \\n\")\n",
    "print(f\"Lagrange dgMatrix: \\n {interp.dgMatrix[:,:]} \\n\")\n",
    "print(\"============================\")"
   ]
  },
  {
   "cell_type": "code",
   "execution_count": null,
   "metadata": {},
   "outputs": [],
   "source": []
  },
  {
   "cell_type": "markdown",
   "metadata": {},
   "source": [
    "## To do\n",
    "\n",
    "* Add text describing the transfer function from the canonical ode\n",
    "* Add method to calculate the transfer function\n"
   ]
  },
  {
   "cell_type": "code",
   "execution_count": null,
   "metadata": {},
   "outputs": [],
   "source": []
  }
 ],
 "metadata": {
  "colab": {
   "authorship_tag": "ABX9TyP+krHZt7n0l/5LlM8jDdhf",
   "include_colab_link": true,
   "provenance": []
  },
  "kernelspec": {
   "display_name": "Python 3 (ipykernel)",
   "language": "python",
   "name": "python3"
  },
  "language_info": {
   "codemirror_mode": {
    "name": "ipython",
    "version": 3
   },
   "file_extension": ".py",
   "mimetype": "text/x-python",
   "name": "python",
   "nbconvert_exporter": "python",
   "pygments_lexer": "ipython3",
   "version": "3.9.13"
  }
 },
 "nbformat": 4,
 "nbformat_minor": 1
}
